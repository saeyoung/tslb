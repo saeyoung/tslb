{
 "cells": [
  {
   "cell_type": "code",
   "execution_count": 238,
   "metadata": {
    "collapsed": true
   },
   "outputs": [],
   "source": [
    "import sys\n",
    "import random\n",
    "import pandas as pd\n",
    "import numpy as np\n",
    "from numpy.linalg import svd, matrix_rank, norm\n",
    "from sklearn import linear_model\n",
    "import datetime\n",
    "import pickle"
   ]
  },
  {
   "cell_type": "code",
   "execution_count": 23,
   "metadata": {
    "scrolled": true
   },
   "outputs": [
    {
     "name": "stdout",
     "output_type": "stream",
     "text": [
      "nba_data/2009-010_pbp.csv\n"
     ]
    },
    {
     "name": "stderr",
     "output_type": "stream",
     "text": [
      "/Users/saeyoung/anaconda3/lib/python3.6/site-packages/ipykernel_launcher.py:18: SettingWithCopyWarning: \n",
      "A value is trying to be set on a copy of a slice from a DataFrame\n",
      "\n",
      "See the caveats in the documentation: http://pandas.pydata.org/pandas-docs/stable/indexing.html#indexing-view-versus-copy\n",
      "/Users/saeyoung/anaconda3/lib/python3.6/site-packages/ipykernel_launcher.py:35: SettingWithCopyWarning: \n",
      "A value is trying to be set on a copy of a slice from a DataFrame\n",
      "\n",
      "See the caveats in the documentation: http://pandas.pydata.org/pandas-docs/stable/indexing.html#indexing-view-versus-copy\n",
      "/Users/saeyoung/anaconda3/lib/python3.6/site-packages/ipykernel_launcher.py:36: SettingWithCopyWarning: \n",
      "A value is trying to be set on a copy of a slice from a DataFrame\n",
      "\n",
      "See the caveats in the documentation: http://pandas.pydata.org/pandas-docs/stable/indexing.html#indexing-view-versus-copy\n",
      "/Users/saeyoung/anaconda3/lib/python3.6/site-packages/ipykernel_launcher.py:47: SettingWithCopyWarning: \n",
      "A value is trying to be set on a copy of a slice from a DataFrame\n",
      "\n",
      "See the caveats in the documentation: http://pandas.pydata.org/pandas-docs/stable/indexing.html#indexing-view-versus-copy\n",
      "/Users/saeyoung/anaconda3/lib/python3.6/site-packages/ipykernel_launcher.py:48: SettingWithCopyWarning: \n",
      "A value is trying to be set on a copy of a slice from a DataFrame\n",
      "\n",
      "See the caveats in the documentation: http://pandas.pydata.org/pandas-docs/stable/indexing.html#indexing-view-versus-copy\n",
      "/Users/saeyoung/anaconda3/lib/python3.6/site-packages/pandas/core/generic.py:3110: SettingWithCopyWarning: \n",
      "A value is trying to be set on a copy of a slice from a DataFrame.\n",
      "Try using .loc[row_indexer,col_indexer] = value instead\n",
      "\n",
      "See the caveats in the documentation: http://pandas.pydata.org/pandas-docs/stable/indexing.html#indexing-view-versus-copy\n",
      "  self[name] = value\n"
     ]
    },
    {
     "name": "stdout",
     "output_type": "stream",
     "text": [
      "nba_2009.pkl is done\n",
      "nba_data/2010-011_pbp.csv\n",
      "nba_2010.pkl is done\n",
      "nba_data/2011-012_pbp.csv\n",
      "nba_2011.pkl is done\n",
      "nba_data/2012-013_pbp.csv\n",
      "nba_2012.pkl is done\n",
      "nba_data/2013-014_pbp.csv\n",
      "nba_2013.pkl is done\n",
      "nba_data/2014-015_pbp.csv\n",
      "nba_2014.pkl is done\n",
      "nba_data/2015-016_pbp.csv\n",
      "nba_2015.pkl is done\n",
      "nba_data/2016-017_pbp.csv\n",
      "nba_2016.pkl is done\n",
      "nba_data/2017-018_pbp.csv\n",
      "nba_2017.pkl is done\n"
     ]
    }
   ],
   "source": [
    "# for k in range(9,18):\n",
    "#     df = pd.read_csv(\"nba_data/\"+str(2000+k)+\"-\"+str(k+1)+\"_pbp.csv\")\n",
    "#     print(\"nba_data/\"+str(2000+k)+\"-0\"+str(k+1)+\"_pbp.csv\")\n",
    "    \n",
    "#     ### SCORE1, SCORE2 cols\n",
    "#     df_new = df[~df.SCORE.isnull()]    # only when the score has changed\n",
    "#     df_new = df_new[['GAME_ID','PERIOD','PCTIMESTRING','SCORE']]\n",
    "#     # making SCORE1, SCORE2 cols in stead of SCORE\n",
    "#     score = df_new['SCORE'].str.split(\"-\",expand = True)\n",
    "#     df_new['SCORE1'] = score[0].str.strip(\" \")\n",
    "#     df_new['SCORE2'] = score[1].str.strip(\" \")\n",
    "#     df_new['SCORE1'] = df_new['SCORE1'].astype('int')\n",
    "#     df_new['SCORE2'] = df_new['SCORE2'].astype('int')\n",
    "#     df_new = df_new.drop(['SCORE'], axis=1)\n",
    "\n",
    "#     ### 'TIME' col\n",
    "#     df_new['TIME'] = pd.to_datetime(\"1900-01-01 00:15:00\") - pd.to_datetime(df_new.PCTIMESTRING, format= '%M:%S')\n",
    "#     df_new.TIME[df_new.PERIOD > 4] = pd.to_datetime(\"1900-01-01 00:05:00\") - pd.to_datetime(df_new.PCTIMESTRING, format= '%M:%S')\n",
    "\n",
    "#     for i in range(2,11):\n",
    "#         df_new.TIME[df_new.PERIOD == i] = df_new.TIME[df_new.PERIOD == i] + pd.to_timedelta(\"00:15:00\")*min(i-1, 4) + pd.to_timedelta(\"00:05:00\")*max(i-5,0)\n",
    "\n",
    "#     ### 'TIME_INT' col : 15 sec interval scores\n",
    "#     fr = '15S'\n",
    "#     df_new['TIME_INT'] = df_new.TIME.dt.ceil(freq=fr)\n",
    "\n",
    "#     ### 'WINNER' col\n",
    "#     # determine the winner\n",
    "#     df_finalscore = df_new.drop_duplicates(['GAME_ID'], keep='last')\n",
    "#     # print(\"team 1 wins: \")\n",
    "#     # print(sum(df_finalscore['SCORE1']>df_finalscore['SCORE2']))\n",
    "#     # print(\"team 2 wins: \")\n",
    "#     # print(sum(df_finalscore['SCORE1']<df_finalscore['SCORE2']))\n",
    "#     df_new['WINNER'] = 0\n",
    "#     df_new.WINNER[df_new.GAME_ID.isin(df_finalscore[df_finalscore['SCORE1'] > df_finalscore['SCORE2']].GAME_ID)] =1\n",
    "#     df_new.WINNER[df_new.GAME_ID.isin(df_finalscore[df_finalscore['SCORE1'] < df_finalscore['SCORE2']].GAME_ID)] =2\n",
    "#     df_new.head()\n",
    "\n",
    "#     # 0: draw (never happens)\n",
    "#     # 1: team 1 won\n",
    "#     # 2: team 2 won\n",
    "\n",
    "#     ### 'SCORE_WIN' and 'SCORE_LOSE' cols\n",
    "#     df_new.insert(5,column=\"SCORE_WIN\", value=df_new.SCORE1) \n",
    "#     df_new.insert(6,column=\"SCORE_LOSE\", value=df_new.SCORE2)\n",
    "\n",
    "#     df_new.SCORE_WIN[df_new.WINNER == 2] = df_new.SCORE2[df_new.WINNER == 2]\n",
    "#     df_new.SCORE_LOSE[df_new.WINNER == 2] = df_new.SCORE1[df_new.WINNER == 2]\n",
    "\n",
    "#     # add the default rows before the first row of each game\n",
    "#     df_first = df_new[df_new.GAME_ID.shift(+1) != df_new.GAME_ID]\n",
    "#     df_first.set_axis(labels = df_new[df_new.GAME_ID.shift(+1) != df_new.GAME_ID].index-1, axis=0)\n",
    "\n",
    "#     df_first.SCORE1 = 0\n",
    "#     df_first.SCORE2 = 0\n",
    "#     df_first.SCORE_WIN = 0\n",
    "#     df_first.SCORE_LOSE = 0\n",
    "#     df_first.PCTIMESTRING = \"00:00\"\n",
    "#     df_first.TIME = pd.to_timedelta(\"00:00:00\")\n",
    "#     df_first.TIME_INT = pd.to_timedelta(\"00:00:00\")\n",
    "\n",
    "#     df_new = df_new.append(df_first).sort_index()\n",
    "\n",
    "#     df_new.to_pickle(\"nba_\"+str(2000+k)+\".pkl\")\n",
    "#     print(\"nba_\"+str(2000+k)+\".pkl is done\")\n"
   ]
  },
  {
   "cell_type": "markdown",
   "metadata": {},
   "source": [
    "## Data from: https://eightthirtyfour.com/data\n",
    "### Extended NBA Play By Play Data\n",
    "### keeping the original granularity\n",
    "### columns: 'GAME_ID', 'PERIOD', 'PCTIMESTRING', 'HOME_SCORE', 'AWAY_SCORE', 'TIME', 'TIME_INT', 'WINNER'\n",
    "### 'HOME_TEAM', 'AWAY_TEAM' colums are incorrect\n",
    "### TIME = game clock, pd.Timedelta\n",
    "### TIME_INT = ceiling of TIME value in 15 sec interval\n",
    "       "
   ]
  },
  {
   "cell_type": "code",
   "execution_count": 163,
   "metadata": {
    "scrolled": true
   },
   "outputs": [
    {
     "name": "stderr",
     "output_type": "stream",
     "text": [
      "/Users/saeyoung/anaconda3/lib/python3.6/site-packages/IPython/core/interactiveshell.py:2698: DtypeWarning: Columns (71,89,90) have mixed types. Specify dtype option on import or set low_memory=False.\n",
      "  interactivity=interactivity, compiler=compiler, result=result)\n"
     ]
    },
    {
     "name": "stdout",
     "output_type": "stream",
     "text": [
      "Imported season 2008\n",
      "nba_2008.pkl is done\n"
     ]
    },
    {
     "name": "stderr",
     "output_type": "stream",
     "text": [
      "/Users/saeyoung/anaconda3/lib/python3.6/site-packages/IPython/core/interactiveshell.py:2698: DtypeWarning: Columns (71,89,90) have mixed types. Specify dtype option on import or set low_memory=False.\n",
      "  interactivity=interactivity, compiler=compiler, result=result)\n"
     ]
    },
    {
     "name": "stdout",
     "output_type": "stream",
     "text": [
      "Imported season 2009\n",
      "nba_2009.pkl is done\n"
     ]
    },
    {
     "name": "stderr",
     "output_type": "stream",
     "text": [
      "/Users/saeyoung/anaconda3/lib/python3.6/site-packages/IPython/core/interactiveshell.py:2698: DtypeWarning: Columns (71,89,90) have mixed types. Specify dtype option on import or set low_memory=False.\n",
      "  interactivity=interactivity, compiler=compiler, result=result)\n"
     ]
    },
    {
     "name": "stdout",
     "output_type": "stream",
     "text": [
      "Imported season 2010\n",
      "nba_2010.pkl is done\n"
     ]
    },
    {
     "name": "stderr",
     "output_type": "stream",
     "text": [
      "/Users/saeyoung/anaconda3/lib/python3.6/site-packages/IPython/core/interactiveshell.py:2698: DtypeWarning: Columns (71,89,90) have mixed types. Specify dtype option on import or set low_memory=False.\n",
      "  interactivity=interactivity, compiler=compiler, result=result)\n"
     ]
    },
    {
     "name": "stdout",
     "output_type": "stream",
     "text": [
      "Imported season 2011\n",
      "nba_2011.pkl is done\n"
     ]
    },
    {
     "name": "stderr",
     "output_type": "stream",
     "text": [
      "/Users/saeyoung/anaconda3/lib/python3.6/site-packages/IPython/core/interactiveshell.py:2698: DtypeWarning: Columns (71,89,90) have mixed types. Specify dtype option on import or set low_memory=False.\n",
      "  interactivity=interactivity, compiler=compiler, result=result)\n"
     ]
    },
    {
     "name": "stdout",
     "output_type": "stream",
     "text": [
      "Imported season 2012\n",
      "nba_2012.pkl is done\n"
     ]
    },
    {
     "name": "stderr",
     "output_type": "stream",
     "text": [
      "/Users/saeyoung/anaconda3/lib/python3.6/site-packages/IPython/core/interactiveshell.py:2698: DtypeWarning: Columns (71,89,90) have mixed types. Specify dtype option on import or set low_memory=False.\n",
      "  interactivity=interactivity, compiler=compiler, result=result)\n"
     ]
    },
    {
     "name": "stdout",
     "output_type": "stream",
     "text": [
      "Imported season 2013\n",
      "nba_2013.pkl is done\n"
     ]
    },
    {
     "name": "stderr",
     "output_type": "stream",
     "text": [
      "/Users/saeyoung/anaconda3/lib/python3.6/site-packages/IPython/core/interactiveshell.py:2698: DtypeWarning: Columns (71,89,90) have mixed types. Specify dtype option on import or set low_memory=False.\n",
      "  interactivity=interactivity, compiler=compiler, result=result)\n"
     ]
    },
    {
     "name": "stdout",
     "output_type": "stream",
     "text": [
      "Imported season 2014\n",
      "nba_2014.pkl is done\n"
     ]
    },
    {
     "name": "stderr",
     "output_type": "stream",
     "text": [
      "/Users/saeyoung/anaconda3/lib/python3.6/site-packages/IPython/core/interactiveshell.py:2698: DtypeWarning: Columns (71,89,90) have mixed types. Specify dtype option on import or set low_memory=False.\n",
      "  interactivity=interactivity, compiler=compiler, result=result)\n"
     ]
    },
    {
     "name": "stdout",
     "output_type": "stream",
     "text": [
      "Imported season 2015\n",
      "nba_2015.pkl is done\n"
     ]
    },
    {
     "name": "stderr",
     "output_type": "stream",
     "text": [
      "/Users/saeyoung/anaconda3/lib/python3.6/site-packages/IPython/core/interactiveshell.py:2698: DtypeWarning: Columns (71,89,90) have mixed types. Specify dtype option on import or set low_memory=False.\n",
      "  interactivity=interactivity, compiler=compiler, result=result)\n"
     ]
    },
    {
     "name": "stdout",
     "output_type": "stream",
     "text": [
      "Imported season 2016\n",
      "nba_2016.pkl is done\n"
     ]
    },
    {
     "name": "stderr",
     "output_type": "stream",
     "text": [
      "/Users/saeyoung/anaconda3/lib/python3.6/site-packages/IPython/core/interactiveshell.py:2698: DtypeWarning: Columns (71,89,90) have mixed types. Specify dtype option on import or set low_memory=False.\n",
      "  interactivity=interactivity, compiler=compiler, result=result)\n"
     ]
    },
    {
     "name": "stdout",
     "output_type": "stream",
     "text": [
      "Imported season 2017\n",
      "nba_2017.pkl is done\n"
     ]
    },
    {
     "name": "stderr",
     "output_type": "stream",
     "text": [
      "/Users/saeyoung/anaconda3/lib/python3.6/site-packages/IPython/core/interactiveshell.py:2698: DtypeWarning: Columns (71,89,90) have mixed types. Specify dtype option on import or set low_memory=False.\n",
      "  interactivity=interactivity, compiler=compiler, result=result)\n"
     ]
    },
    {
     "name": "stdout",
     "output_type": "stream",
     "text": [
      "Imported season 2018\n",
      "nba_2018.pkl is done\n"
     ]
    }
   ],
   "source": [
    "for season in range(2008,2019):\n",
    "    df = pd.read_csv('../data/nba/nba_834/events_'+str(season)+'-'+str(season+1)+'_pbp.csv')\n",
    "\n",
    "    print(\"Imported season \" + str(season))\n",
    "\n",
    "    ### SCORE1, SCORE2 cols\n",
    "    df_new = df[~df.SCORE.isnull()].copy()    # only when the score has changed\n",
    "    df_new = df_new.loc[:,['GAME_ID','PERIOD','PCTIMESTRING', 'HOME_SCORE','AWAY_SCORE','SCORE']]\n",
    "\n",
    "    ### 'TIME' col\n",
    "    df_new['TIME'] = pd.to_datetime(\"1900-01-01 00:12:00\") - pd.to_datetime(df_new.PCTIMESTRING, format= '%M:%S')\n",
    "    df_new.loc[df_new.PERIOD > 4, 'TIME'] = pd.to_datetime(\"1900-01-01 00:05:00\") - pd.to_datetime(df_new.PCTIMESTRING, format= '%M:%S')\n",
    "\n",
    "    for i in range(2,11):\n",
    "        df_new.loc[df_new.PERIOD == i, \"TIME\"] = df_new.TIME[df_new.PERIOD == i] + pd.to_timedelta(\"00:12:00\")*min(i-1, 4) + pd.to_timedelta(\"00:05:00\")*max(i-5,0)\n",
    "\n",
    "        ### 'TIME_INT' col : 15 sec interval scores\n",
    "    fr = '15S'\n",
    "    df_new['TIME_INT'] = df_new.TIME.dt.ceil(freq=fr)\n",
    "\n",
    "    # df_finalscore\n",
    "    df_finalscore = df_new.drop_duplicates(['GAME_ID'], keep='last')\n",
    "\n",
    "    ### 'WINNER' col\n",
    "    df_new['WINNER'] = 0\n",
    "    df_new.loc[df_new.GAME_ID.isin(df_finalscore[df_finalscore['HOME_SCORE'] > df_finalscore['AWAY_SCORE']].GAME_ID), \"WINNER\"] =0\n",
    "    df_new.loc[df_new.GAME_ID.isin(df_finalscore[df_finalscore['HOME_SCORE'] < df_finalscore['AWAY_SCORE']].GAME_ID), \"WINNER\"] =1\n",
    "\n",
    "    # df_first\n",
    "    df_first = df_new[df_new.GAME_ID.shift(+1) != df_new.GAME_ID].copy()\n",
    "    df_first.set_axis(labels = df_new[df_new.GAME_ID.shift(+1) != df_new.GAME_ID].index-1, axis=0, inplace = True)\n",
    "\n",
    "    df_first.loc[:,'HOME_SCORE'] = 0\n",
    "    df_first.loc[:,'AWAY_SCORE'] = 0\n",
    "    df_first.loc[:,'SCORE'] = \"0 - 0\"\n",
    "    df_first.loc[:,'PCTIMESTRING'] = \"00:00\"\n",
    "    df_first.loc[:,'TIME'] = pd.to_timedelta(\"00:00:00\")\n",
    "    df_first.loc[:,'TIME_INT'] = pd.to_timedelta(\"00:00:00\")\n",
    "\n",
    "    df_new = df_new.append(df_first).sort_index()\n",
    "\n",
    "    df_new.to_pickle(\"../data/nba/nba_\"+str(season)+\".pkl\")\n",
    "    print(\"nba_\"+str(season)+\".pkl is done\")\n"
   ]
  },
  {
   "cell_type": "markdown",
   "metadata": {},
   "source": [
    "## Append \"Home\" and \"Away\" columns"
   ]
  },
  {
   "cell_type": "code",
   "execution_count": 164,
   "metadata": {
    "collapsed": true,
    "scrolled": true
   },
   "outputs": [],
   "source": [
    "df_games = pd.read_pickle(\"../data/nba_hosoi/games.pkl\")\n",
    "df_games = df_games[df_games.type == \"regular season\"]\n",
    "df_games.sort_values(\"nbaId\")\n",
    "\n",
    "teams = pd.read_csv(\"../data/nba_hosoi/teams.csv\")\n",
    "teams = np.array(teams.abbrev)"
   ]
  },
  {
   "cell_type": "code",
   "execution_count": 166,
   "metadata": {
    "scrolled": true
   },
   "outputs": [
    {
     "name": "stdout",
     "output_type": "stream",
     "text": [
      "ATL : 246 / 246\n",
      "BOS : 246 / 246\n",
      "BKN : 246 / 246\n",
      "CHA : 246 / 246\n",
      "CHI : 246 / 246\n",
      "CLE : 246 / 246\n",
      "DAL : 246 / 246\n",
      "DEN : 246 / 246\n",
      "DET : 246 / 246\n",
      "GSW : 246 / 246\n",
      "HOU : 246 / 246\n",
      "IND : 246 / 246\n",
      "LAC : 246 / 246\n",
      "LAL : 246 / 246\n",
      "MEM : 246 / 246\n",
      "MIA : 246 / 246\n",
      "MIL : 246 / 246\n",
      "MIN : 246 / 246\n",
      "NOP : 246 / 246\n",
      "NYK : 246 / 246\n",
      "OKC : 246 / 246\n",
      "ORL : 245 / 246\n",
      "PHI : 246 / 246\n",
      "PHX : 246 / 246\n",
      "POR : 246 / 246\n",
      "SAC : 246 / 246\n",
      "SAS : 246 / 246\n",
      "TOR : 246 / 245\n",
      "UTA : 246 / 246\n",
      "WAS : 246 / 246\n"
     ]
    }
   ],
   "source": [
    "# sanity check\n",
    "for team in teams:\n",
    "    print(team, \":\", np.sum(df_games.home == team), \"/\", np.sum(df_games.away == team))"
   ]
  },
  {
   "cell_type": "code",
   "execution_count": 169,
   "metadata": {
    "scrolled": true
   },
   "outputs": [
    {
     "name": "stdout",
     "output_type": "stream",
     "text": [
      "2013\n",
      "[21300074]\n",
      "\n",
      "2014\n",
      "[]\n",
      "\n",
      "2015\n",
      "[21500588]\n",
      "\n",
      "2016\n",
      "[]\n",
      "\n",
      "2017\n",
      "[]\n",
      "\n",
      "2018\n",
      "[]\n",
      "\n"
     ]
    }
   ],
   "source": [
    "df_full = pd.DataFrame()\n",
    "for season in range(2013, 2019):\n",
    "    df_new = pd.read_pickle(\"../data/nba/nba_\"+str(season)+\".pkl\")\n",
    "    df_new = df_new.rename(columns = {\"GAME_ID\": \"nbaId\"})\n",
    "    df_new = pd.merge(df_new, df_games, on = \"nbaId\", how=\"left\")\n",
    "    df_full = pd.concat([df_full, df_new], axis=0)\n",
    "\n",
    "    print(season)\n",
    "    print(df_new[df_new.home.isnull()].nbaId.unique())\n",
    "    print()"
   ]
  },
  {
   "cell_type": "code",
   "execution_count": 171,
   "metadata": {
    "collapsed": true
   },
   "outputs": [],
   "source": [
    "# save\n",
    "df_full.to_pickle(\"../data/nba_hosoi/nba_scores_2103-2018.pkl\")"
   ]
  },
  {
   "cell_type": "markdown",
   "metadata": {},
   "source": [
    "# Matrix Formulation"
   ]
  },
  {
   "cell_type": "code",
   "execution_count": 213,
   "metadata": {},
   "outputs": [
    {
     "name": "stderr",
     "output_type": "stream",
     "text": [
      "/Users/saeyoung/anaconda3/lib/python3.6/site-packages/IPython/core/interactiveshell.py:2862: FutureWarning: Passing timedelta64-dtype data is deprecated, will raise a TypeError in a future version\n",
      "  exec(code_obj, self.user_global_ns, self.user_ns)\n",
      "/Users/saeyoung/anaconda3/lib/python3.6/site-packages/pandas/core/indexing.py:543: SettingWithCopyWarning: \n",
      "A value is trying to be set on a copy of a slice from a DataFrame.\n",
      "Try using .loc[row_indexer,col_indexer] = value instead\n",
      "\n",
      "See the caveats in the documentation: http://pandas.pydata.org/pandas-docs/stable/indexing.html#indexing-view-versus-copy\n",
      "  self.obj[item] = s\n"
     ]
    }
   ],
   "source": [
    "############### dropping some rows and pivoting ############\n",
    "\n",
    "df = pd.read_pickle(\"../data/nba_hosoi/nba_scores_2103-2018.pkl\")\n",
    "\n",
    "##### create df_int : 15 sec interval scores\n",
    "fr = '15S'\n",
    "\n",
    "df_int = df.copy()\n",
    "df_int = df_int[df_int.TIME_INT.shift(-1) != df_int.TIME_INT]    # remove the rows with the same TIME_INT\n",
    "\n",
    "### Create Matrix only with Q1-Q4\n",
    "# 1230 rows : 1230 games in total\n",
    "# 193 columns : 48 mins (4 Quarters) / 15 secs interval\n",
    "\n",
    "# only quarter 4\n",
    "df_q4 = df_int[df_int.TIME_INT <= pd.to_timedelta(\"00:48:00\")]\n",
    "df_q4.loc[:,'TIME_INT'] = pd.to_datetime(df_q4.loc[:,'TIME_INT'])\n",
    "# time_index = pd.timedelta_range(start = pd.to_timedelta(\"00:00:00\"), end = pd.to_timedelta(\"00:48:00\"), freq='15s')\n",
    "\n",
    "df_q4_home = pd.pivot_table(df_q4, values='HOME_SCORE', columns=['nbaId'],index=['TIME_INT'])\n",
    "df_q4_home = df_q4_home.fillna(method = 'ffill')\n",
    "df_q4_home = df_q4_home.asfreq(freq='15S', method='ffill')\n",
    "\n",
    "df_q4_away = pd.pivot_table(df_q4, values='AWAY_SCORE', columns=['nbaId'],index=['TIME_INT'])\n",
    "df_q4_away = df_q4_away.fillna(method = 'ffill')\n",
    "df_q4_away = df_q4_away.asfreq(freq='15S', method='ffill')\n",
    "\n",
    "df_q4_home = df_q4_home.T\n",
    "df_q4_away = df_q4_away.T"
   ]
  },
  {
   "cell_type": "code",
   "execution_count": 216,
   "metadata": {
    "collapsed": true,
    "scrolled": true
   },
   "outputs": [],
   "source": [
    "df_q4_home.to_pickle(\"../data/nba_hosoi/nba_scores_2103-2018_home_matrix.pkl\")\n",
    "df_q4_away.to_pickle(\"../data/nba_hosoi/nba_scores_2103-2018_away_matrix.pkl\")"
   ]
  },
  {
   "cell_type": "markdown",
   "metadata": {
    "collapsed": true
   },
   "source": [
    "# check"
   ]
  },
  {
   "cell_type": "code",
   "execution_count": 223,
   "metadata": {
    "collapsed": true,
    "scrolled": true
   },
   "outputs": [],
   "source": [
    "df = pd.read_pickle(\"../data/nba_hosoi/nba_scores_2103-2018.pkl\")"
   ]
  },
  {
   "cell_type": "code",
   "execution_count": 234,
   "metadata": {
    "scrolled": true
   },
   "outputs": [
    {
     "data": {
      "text/plain": [
       "246"
      ]
     },
     "execution_count": 234,
     "metadata": {},
     "output_type": "execute_result"
    }
   ],
   "source": [
    "len(df.nbaId[df.home == \"BOS\"].unique())"
   ]
  },
  {
   "cell_type": "code",
   "execution_count": 233,
   "metadata": {},
   "outputs": [
    {
     "data": {
      "text/plain": [
       "246"
      ]
     },
     "execution_count": 233,
     "metadata": {},
     "output_type": "execute_result"
    }
   ],
   "source": [
    "len(df.nbaId[df.away == \"BOS\"].unique())"
   ]
  },
  {
   "cell_type": "code",
   "execution_count": 240,
   "metadata": {
    "collapsed": true
   },
   "outputs": [],
   "source": [
    "nbaId = df.nbaId.unique()\n",
    "\n",
    "with open(\"../data/nba_hosoi/nbaId_2013-2018.pkl\", 'wb') as f:  # Python 3: open(..., 'wb')\n",
    "    pickle.dump(nbaId, f)"
   ]
  },
  {
   "cell_type": "code",
   "execution_count": null,
   "metadata": {
    "collapsed": true
   },
   "outputs": [],
   "source": []
  },
  {
   "cell_type": "code",
   "execution_count": null,
   "metadata": {
    "collapsed": true
   },
   "outputs": [],
   "source": []
  },
  {
   "cell_type": "code",
   "execution_count": null,
   "metadata": {
    "collapsed": true
   },
   "outputs": [],
   "source": []
  },
  {
   "cell_type": "code",
   "execution_count": null,
   "metadata": {
    "collapsed": true
   },
   "outputs": [],
   "source": []
  },
  {
   "cell_type": "code",
   "execution_count": null,
   "metadata": {
    "collapsed": true
   },
   "outputs": [],
   "source": []
  },
  {
   "cell_type": "code",
   "execution_count": null,
   "metadata": {
    "collapsed": true
   },
   "outputs": [],
   "source": []
  },
  {
   "cell_type": "code",
   "execution_count": null,
   "metadata": {
    "collapsed": true
   },
   "outputs": [],
   "source": []
  },
  {
   "cell_type": "code",
   "execution_count": null,
   "metadata": {
    "collapsed": true
   },
   "outputs": [],
   "source": []
  },
  {
   "cell_type": "code",
   "execution_count": null,
   "metadata": {
    "collapsed": true
   },
   "outputs": [],
   "source": []
  },
  {
   "cell_type": "code",
   "execution_count": null,
   "metadata": {
    "collapsed": true
   },
   "outputs": [],
   "source": []
  },
  {
   "cell_type": "code",
   "execution_count": null,
   "metadata": {
    "collapsed": true
   },
   "outputs": [],
   "source": []
  }
 ],
 "metadata": {
  "kernelspec": {
   "display_name": "Python 3",
   "language": "python",
   "name": "python3"
  },
  "language_info": {
   "codemirror_mode": {
    "name": "ipython",
    "version": 3
   },
   "file_extension": ".py",
   "mimetype": "text/x-python",
   "name": "python",
   "nbconvert_exporter": "python",
   "pygments_lexer": "ipython3",
   "version": "3.6.4"
  }
 },
 "nbformat": 4,
 "nbformat_minor": 2
}
